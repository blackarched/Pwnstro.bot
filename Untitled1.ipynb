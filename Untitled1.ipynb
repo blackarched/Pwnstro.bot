{
  "cells": [
    {
      "cell_type": "markdown",
      "metadata": {
        "id": "view-in-github",
        "colab_type": "text"
      },
      "source": [
        "<a href=\"https://colab.research.google.com/github/blackarched/Pwnstro.bot/blob/blackarched-updated/Untitled1.ipynb\" target=\"_parent\"><img src=\"https://colab.research.google.com/assets/colab-badge.svg\" alt=\"Open In Colab\"/></a>"
      ]
    },
    {
      "cell_type": "code",
      "execution_count": null,
      "metadata": {
        "id": "KPxGmbdS-QDz"
      },
      "outputs": [],
      "source": []
    },
    {
      "cell_type": "markdown",
      "metadata": {
        "id": "f0b2fddd"
      },
      "source": [
        "# Task\n",
        "Replace the corrupted \"pwnagotchi_v2/backend_api.py\" file with a minimal Flask skeleton and sanitize the specified shell scripts by adding boilerplate and removing non-shell content. Verify the new \"backend_api.py\" by running it, checking the \"/health\" endpoint, and running flake8."
      ]
    },
    {
      "cell_type": "markdown",
      "metadata": {
        "id": "8a8fc2fd"
      },
      "source": [
        "## Replace corrupted backend api.py\n",
        "\n",
        "### Subtask:\n",
        "Create a new `backend_api.py` file with a minimal Flask skeleton, including CORS, Flask-Limiter, structured logging, and a `/health` endpoint.\n"
      ]
    },
    {
      "cell_type": "markdown",
      "metadata": {
        "id": "ec6e7327"
      },
      "source": [
        "**Reasoning**:\n",
        "Create the `backend_api.py` file with a minimal Flask skeleton, including CORS, Flask-Limiter, structured logging, and a `/health` endpoint as requested in the instructions.\n",
        "\n"
      ]
    },
    {
      "cell_type": "code",
      "execution_count": null,
      "metadata": {
        "colab": {
          "background_save": true,
          "base_uri": "https://localhost:8080/"
        },
        "id": "4c1b683e",
        "outputId": "455ae807-890c-402d-b254-47f5f8977ae9"
      },
      "outputs": [
        {
          "name": "stdout",
          "output_type": "stream",
          "text": [
            " * Serving Flask app '__main__'\n",
            " * Debug mode: on\n"
          ]
        },
        {
          "name": "stderr",
          "output_type": "stream",
          "text": [
            "INFO:werkzeug:\u001b[31m\u001b[1mWARNING: This is a development server. Do not use it in a production deployment. Use a production WSGI server instead.\u001b[0m\n",
            " * Running on all addresses (0.0.0.0)\n",
            " * Running on http://127.0.0.1:5000\n",
            " * Running on http://172.28.0.12:5000\n",
            "INFO:werkzeug:\u001b[33mPress CTRL+C to quit\u001b[0m\n",
            "INFO:werkzeug: * Restarting with watchdog (inotify)\n"
          ]
        }
      ],
      "source": [
        "import logging\n",
        "from flask import Flask, jsonify\n",
        "from flask_cors import CORS\n",
        "from flask_limiter import Limiter\n",
        "from flask_limiter.util import get_remote_address\n",
        "\n",
        "# Configure structured logging\n",
        "logging.basicConfig(level=logging.INFO, format='%(asctime)s - %(name)s - %(levelname)s - %(message)s')\n",
        "logger = logging.getLogger(__name__)\n",
        "\n",
        "app = Flask(__name__)\n",
        "\n",
        "# Initialize CORS\n",
        "CORS(app, resources={r\"/*\": {\"origins\": \"*\"}}, supports_credentials=True)\n",
        "\n",
        "# Initialize Limiter\n",
        "limiter = Limiter(\n",
        "    get_remote_address,\n",
        "    app=app,\n",
        "    default_limits=[\"200 per day\", \"50 per hour\"],\n",
        "    storage_uri=\"memory://\"\n",
        ")\n",
        "\n",
        "# Define a health check endpoint\n",
        "@app.route('/health', methods=['GET'])\n",
        "@limiter.limit(\"10 per minute\") # Example per-route limit\n",
        "def health_check():\n",
        "    logger.info(\"Health check requested.\")\n",
        "    return jsonify({\"status\": \"ok\"})\n",
        "\n",
        "if __name__ == \"__main__\":\n",
        "    logger.info(\"Starting Flask development server.\")\n",
        "    app.run(debug=True, host='0.0.0.0', port=5000)\n"
      ]
    },
    {
      "cell_type": "code",
      "execution_count": null,
      "metadata": {
        "id": "hhwtbZd4FgIB"
      },
      "outputs": [],
      "source": []
    },
    {
      "cell_type": "markdown",
      "metadata": {
        "id": "88903626"
      },
      "source": [
        "**Reasoning**:\n",
        "The previous command failed because the `flask_cors` and `flask_limiter` libraries are not installed. Install the required libraries using pip.\n",
        "\n"
      ]
    },
    {
      "cell_type": "code",
      "execution_count": null,
      "metadata": {
        "id": "L8a7y8ttDh3_"
      },
      "outputs": [],
      "source": [
        "%pip install Flask Flask-Cors Flask-Limiter"
      ]
    },
    {
      "cell_type": "markdown",
      "metadata": {
        "id": "af453dc8"
      },
      "source": [
        "**Reasoning**:\n",
        "Now that the necessary libraries are installed, recreate the `backend_api.py` file with the minimal Flask skeleton, including CORS, Flask-Limiter, structured logging, and a `/health` endpoint.\n",
        "\n"
      ]
    },
    {
      "cell_type": "code",
      "execution_count": null,
      "metadata": {
        "id": "3c5e11a7"
      },
      "outputs": [],
      "source": [
        "import logging\n",
        "from flask import Flask, jsonify\n",
        "from flask_cors import CORS\n",
        "from flask_limiter import Limiter\n",
        "from flask_limiter.util import get_remote_address\n",
        "\n",
        "# Configure structured logging\n",
        "logging.basicConfig(level=logging.INFO, format='%(asctime)s - %(name)s - %(levelname)s - %(message)s')\n",
        "logger = logging.getLogger(__name__)\n",
        "\n",
        "app = Flask(__name__)\n",
        "\n",
        "# Initialize CORS\n",
        "CORS(app, resources={r\"/*\": {\"origins\": \"*\"}}, supports_credentials=True)\n",
        "\n",
        "# Initialize Limiter\n",
        "limiter = Limiter(\n",
        "    get_remote_address,\n",
        "    app=app,\n",
        "    default_limits=[\"200 per day\", \"50 per hour\"],\n",
        "    storage_uri=\"memory://\"\n",
        ")\n",
        "\n",
        "# Define a health check endpoint\n",
        "@app.route('/health', methods=['GET'])\n",
        "@limiter.limit(\"10 per minute\") # Example per-route limit\n",
        "def health_check():\n",
        "    logger.info(\"Health check requested.\")\n",
        "    return jsonify({\"status\": \"ok\"})\n",
        "\n",
        "if __name__ == \"__main__\":\n",
        "    logger.info(\"Starting Flask development server.\")\n",
        "    app.run(debug=True, host='0.0.0.0', port=5000)"
      ]
    },
    {
      "cell_type": "code",
      "execution_count": null,
      "metadata": {
        "id": "8378da3b"
      },
      "outputs": [],
      "source": [
        "%%writefile backend_api.py\n",
        "import logging\n",
        "from flask import Flask, jsonify\n",
        "from flask_cors import CORS\n",
        "from flask_limiter import Limiter\n",
        "from flask_limiter.util import get_remote_address\n",
        "\n",
        "# Configure structured logging\n",
        "logging.basicConfig(level=logging.INFO, format='%(asctime)s - %(name)s - %(levelname)s - %(message)s')\n",
        "logger = logging.getLogger(__name__)\n",
        "\n",
        "app = Flask(__name__)\n",
        "\n",
        "# Initialize CORS\n",
        "CORS(app, resources={r\"/*\": {\"origins\": \"*\"}}, supports_credentials=True)\n",
        "\n",
        "# Initialize Limiter\n",
        "limiter = Limiter(\n",
        "    get_remote_address,\n",
        "    app=app,\n",
        "    default_limits=[\"200 per day\", \"50 per hour\"],\n",
        "    storage_uri=\"memory://\"\n",
        ")\n",
        "\n",
        "# Define a health check endpoint\n",
        "@app.route('/health', methods=['GET'])\n",
        "@limiter.limit(\"10 per minute\") # Example per-route limit\n",
        "def health_check():\n",
        "    logger.info(\"Health check requested.\")\n",
        "    return jsonify({\"status\": \"ok\"})\n",
        "\n",
        "if __name__ == \"__main__\":\n",
        "    logger.info(\"Starting Flask development server.\")\n",
        "    # Using port 8080 as requested in the acceptance criteria\n",
        "    app.run(debug=True, host='0.0.0.0', port=8080)"
      ]
    },
    {
      "cell_type": "code",
      "execution_count": null,
      "metadata": {
        "id": "e759a2ce"
      },
      "outputs": [],
      "source": [
        "import os\n",
        "\n",
        "scripts_to_sanitize = [\n",
        "    'install.sh',\n",
        "    'quick-install.sh',\n",
        "    'docker-deploy.sh',\n",
        "    'fix-nginx.sh',\n",
        "    'start-dashboard.sh',\n",
        "    'stop-dashboard.sh'\n",
        "]\n",
        "\n",
        "boilerplate = \"\"\"#!/usr/bin/env bash\n",
        "set -euo pipefail\n",
        "IFS=$'\\\\n\\\\t'\n",
        "\"\"\"\n",
        "\n",
        "for script_name in scripts_to_sanitize:\n",
        "    if os.path.exists(script_name):\n",
        "        with open(script_name, 'r') as f:\n",
        "            content = f.read()\n",
        "\n",
        "        # Simple approach to remove potential non-shell content after a common shell construct\n",
        "        # This might need refinement based on the actual content of the corrupted files\n",
        "        cleaned_content = []\n",
        "        in_shell_block = True\n",
        "        for line in content.splitlines():\n",
        "            if line.strip().startswith(\"...\"): # Assuming \"...\" is a placeholder to be removed\n",
        "                 continue\n",
        "            if in_shell_block:\n",
        "                 cleaned_content.append(line)\n",
        "\n",
        "\n",
        "        with open(script_name, 'w') as f:\n",
        "            f.write(boilerplate)\n",
        "            f.write('\\n'.join(cleaned_content))\n",
        "        print(f\"Sanitized {script_name}\")\n",
        "    else:\n",
        "        print(f\"Script not found: {script_name}\")"
      ]
    },
    {
      "cell_type": "code",
      "execution_count": null,
      "metadata": {
        "id": "fe8b9b0c"
      },
      "outputs": [],
      "source": [
        "%pip install -r requirements.txt"
      ]
    },
    {
      "cell_type": "code",
      "execution_count": null,
      "metadata": {
        "id": "63c40308"
      },
      "outputs": [],
      "source": [
        "import subprocess\n",
        "import time\n",
        "\n",
        "# Start the Flask app in a separate process\n",
        "process = subprocess.Popen(['python', 'backend_api.py'])\n",
        "\n",
        "# Give the Flask app a moment to start\n",
        "time.sleep(5)\n",
        "\n",
        "# Check the health endpoint\n",
        "try:\n",
        "    health_check_output = subprocess.check_output(['curl', 'http://localhost:8080/health']).decode('utf-8')\n",
        "    print(\"Health check output:\")\n",
        "    print(health_check_output)\n",
        "except subprocess.CalledProcessError as e:\n",
        "    print(f\"Error during health check: {e}\")\n",
        "finally:\n",
        "    # Terminate the Flask app process\n",
        "    process.terminate()\n",
        "    process.wait()"
      ]
    },
    {
      "cell_type": "code",
      "execution_count": null,
      "metadata": {
        "id": "ed32374b"
      },
      "outputs": [],
      "source": [
        "get_ipython().system('flake8 backend_api.py')"
      ]
    }
  ],
  "metadata": {
    "colab": {
      "toc_visible": true,
      "provenance": [],
      "authorship_tag": "ABX9TyNALQL0MuYhqqGBJnDhr8Iw",
      "include_colab_link": true
    },
    "kernelspec": {
      "display_name": "Python 3",
      "name": "python3"
    },
    "language_info": {
      "name": "python"
    }
  },
  "nbformat": 4,
  "nbformat_minor": 0
}